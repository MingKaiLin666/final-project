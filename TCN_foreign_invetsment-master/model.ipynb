{
 "cells": [
  {
   "cell_type": "code",
   "execution_count": 7,
   "metadata": {},
   "outputs": [],
   "source": [
    "from tcn import compiled_tcn\n",
    "from sklearn.model_selection import train_test_split\n",
    "\n",
    "import numpy as np\n",
    "import pandas as pd\n",
    "import h5py"
   ]
  },
  {
   "cell_type": "code",
   "execution_count": 9,
   "metadata": {},
   "outputs": [],
   "source": [
    "with h5py.File('X_train.h5', 'r') as hf:\n",
    "   X = hf['X_train'][:]\n",
    "\n",
    "with h5py.File('Y_train.h5', 'r') as hf:\n",
    "    Y = hf['Y_train'][:]"
   ]
  },
  {
   "cell_type": "code",
   "execution_count": 10,
   "metadata": {},
   "outputs": [
    {
     "data": {
      "text/plain": [
       "(77526, 15, 28)"
      ]
     },
     "execution_count": 10,
     "metadata": {},
     "output_type": "execute_result"
    }
   ],
   "source": [
    "X.shape"
   ]
  },
  {
   "cell_type": "code",
   "execution_count": 11,
   "metadata": {},
   "outputs": [],
   "source": [
    "X[np.isnan(X)] = 0"
   ]
  },
  {
   "cell_type": "code",
   "execution_count": 12,
   "metadata": {},
   "outputs": [
    {
     "data": {
      "text/plain": [
       "(77526, 1)"
      ]
     },
     "execution_count": 12,
     "metadata": {},
     "output_type": "execute_result"
    }
   ],
   "source": [
    "Y.shape"
   ]
  },
  {
   "cell_type": "code",
   "execution_count": 13,
   "metadata": {},
   "outputs": [],
   "source": [
    "X_train, X_test, Y_train, Y_test = train_test_split(X, Y, test_size=0.3, random_state=87)\n"
   ]
  },
  {
   "cell_type": "code",
   "execution_count": 14,
   "metadata": {},
   "outputs": [
    {
     "data": {
      "text/plain": [
       "(54268, 15, 28)"
      ]
     },
     "execution_count": 14,
     "metadata": {},
     "output_type": "execute_result"
    }
   ],
   "source": [
    "X_train.shape"
   ]
  },
  {
   "cell_type": "code",
   "execution_count": 15,
   "metadata": {},
   "outputs": [],
   "source": [
    "X_train[np.isnan(X_train)] = 0"
   ]
  },
  {
   "cell_type": "code",
   "execution_count": 16,
   "metadata": {},
   "outputs": [
    {
     "data": {
      "text/plain": [
       "(54268, 1)"
      ]
     },
     "execution_count": 16,
     "metadata": {},
     "output_type": "execute_result"
    }
   ],
   "source": [
    "Y_train.shape"
   ]
  },
  {
   "cell_type": "code",
   "execution_count": 17,
   "metadata": {},
   "outputs": [
    {
     "name": "stdout",
     "output_type": "stream",
     "text": [
      "x.shape= (None, 24)\n",
      "model.x = (None, 15, 28)\n",
      "model.y = (None, 1)\n"
     ]
    }
   ],
   "source": [
    "model = compiled_tcn(return_sequences=False,\n",
    "                             num_feat=28,\n",
    "                             nb_filters=24,\n",
    "                             num_classes=0,\n",
    "                             kernel_size=8,\n",
    "                             dilations=[2 ** i for i in range(9)],\n",
    "                             nb_stacks=1,\n",
    "                             max_len=15,\n",
    "                             use_skip_connections=True,\n",
    "                             regression=True,\n",
    "                             dropout_rate=0,\n",
    "                             output_len=1) ##opt adam with lr=0.002 default"
   ]
  },
  {
   "cell_type": "code",
   "execution_count": 18,
   "metadata": {
    "scrolled": true
   },
   "outputs": [
    {
     "name": "stdout",
     "output_type": "stream",
     "text": [
      "Train on 54268 samples\n",
      "Epoch 1/20\n",
      "54268/54268 [==============================] - 349s 6ms/sample - loss: 0.3191 - accuracy: 3.6854e-05\n",
      "Epoch 2/20\n",
      "54268/54268 [==============================] - 341s 6ms/sample - loss: 0.3198 - accuracy: 1.8427e-05\n",
      "Epoch 3/20\n",
      "54268/54268 [==============================] - 436s 8ms/sample - loss: 0.3198 - accuracy: 1.8427e-05\n",
      "Epoch 4/20\n",
      "54268/54268 [==============================] - 363s 7ms/sample - loss: 0.3198 - accuracy: 1.8427e-05\n",
      "Epoch 5/20\n",
      "54268/54268 [==============================] - 338s 6ms/sample - loss: 0.3198 - accuracy: 1.8427e-05\n",
      "Epoch 6/20\n",
      "54268/54268 [==============================] - 322s 6ms/sample - loss: 0.3198 - accuracy: 1.8427e-05\n",
      "Epoch 7/20\n",
      "54268/54268 [==============================] - 318s 6ms/sample - loss: 0.3198 - accuracy: 1.8427e-05\n",
      "Epoch 8/20\n",
      "54268/54268 [==============================] - 315s 6ms/sample - loss: 0.3198 - accuracy: 1.8427e-05\n",
      "Epoch 9/20\n",
      "54268/54268 [==============================] - 16006s 295ms/sample - loss: 0.3198 - accuracy: 1.8427e-05\n",
      "Epoch 10/20\n",
      "54268/54268 [==============================] - 320s 6ms/sample - loss: 0.3198 - accuracy: 1.8427e-05\n",
      "Epoch 11/20\n",
      "54268/54268 [==============================] - 291s 5ms/sample - loss: 0.3196 - accuracy: 1.8427e-05\n",
      "Epoch 12/20\n",
      "54268/54268 [==============================] - 269s 5ms/sample - loss: 0.3198 - accuracy: 1.8427e-05\n",
      "Epoch 13/20\n",
      "54268/54268 [==============================] - 266s 5ms/sample - loss: 0.3198 - accuracy: 1.8427e-05\n",
      "Epoch 14/20\n",
      "54268/54268 [==============================] - 257s 5ms/sample - loss: 0.3198 - accuracy: 1.8427e-05\n",
      "Epoch 15/20\n",
      "54268/54268 [==============================] - 259s 5ms/sample - loss: 0.3198 - accuracy: 1.8427e-05\n",
      "Epoch 16/20\n",
      "54268/54268 [==============================] - 266s 5ms/sample - loss: 0.3198 - accuracy: 1.8427e-05\n",
      "Epoch 17/20\n",
      "54268/54268 [==============================] - 252s 5ms/sample - loss: 0.3198 - accuracy: 1.8427e-05\n",
      "Epoch 18/20\n",
      "54268/54268 [==============================] - 256s 5ms/sample - loss: 0.3198 - accuracy: 1.8427e-05\n",
      "Epoch 19/20\n",
      "54268/54268 [==============================] - 238s 4ms/sample - loss: 0.3198 - accuracy: 1.8427e-05\n",
      "Epoch 20/20\n",
      "54268/54268 [==============================] - 238s 4ms/sample - loss: 0.3198 - accuracy: 1.8427e-05\n"
     ]
    },
    {
     "data": {
      "text/plain": [
       "<tensorflow.python.keras.callbacks.History at 0x265fe3b0b00>"
      ]
     },
     "execution_count": 18,
     "metadata": {},
     "output_type": "execute_result"
    }
   ],
   "source": [
    "model.fit(X_train, Y_train, batch_size=50, epochs=20)"
   ]
  },
  {
   "cell_type": "code",
   "execution_count": 19,
   "metadata": {},
   "outputs": [
    {
     "name": "stdout",
     "output_type": "stream",
     "text": [
      "Train on 54268 samples\n",
      "Epoch 1/10\n",
      "54268/54268 [==============================] - 239s 4ms/sample - loss: 0.3198 - accuracy: 1.8427e-05\n",
      "Epoch 2/10\n",
      "54268/54268 [==============================] - 248s 5ms/sample - loss: 0.3198 - accuracy: 1.8427e-05\n",
      "Epoch 3/10\n",
      "54268/54268 [==============================] - 241s 4ms/sample - loss: 0.3198 - accuracy: 1.8427e-05\n",
      "Epoch 4/10\n",
      "54268/54268 [==============================] - 227s 4ms/sample - loss: 0.3198 - accuracy: 1.8427e-05\n",
      "Epoch 5/10\n",
      "54268/54268 [==============================] - 234s 4ms/sample - loss: 0.3198 - accuracy: 1.8427e-05\n",
      "Epoch 6/10\n",
      "54268/54268 [==============================] - 237s 4ms/sample - loss: 0.3198 - accuracy: 1.8427e-05\n",
      "Epoch 7/10\n",
      "54268/54268 [==============================] - 238s 4ms/sample - loss: 0.3198 - accuracy: 1.8427e-05\n",
      "Epoch 8/10\n",
      "54268/54268 [==============================] - 234s 4ms/sample - loss: 0.3198 - accuracy: 1.8427e-05\n",
      "Epoch 9/10\n",
      "54268/54268 [==============================] - 228s 4ms/sample - loss: 0.3198 - accuracy: 1.8427e-05\n",
      "Epoch 10/10\n",
      "54268/54268 [==============================] - 235s 4ms/sample - loss: 0.3198 - accuracy: 1.8427e-05\n"
     ]
    },
    {
     "data": {
      "text/plain": [
       "<tensorflow.python.keras.callbacks.History at 0x26582f9e160>"
      ]
     },
     "execution_count": 19,
     "metadata": {},
     "output_type": "execute_result"
    }
   ],
   "source": [
    "model.fit(X_train, Y_train, batch_size=100, epochs=10)"
   ]
  },
  {
   "cell_type": "code",
   "execution_count": 20,
   "metadata": {},
   "outputs": [
    {
     "name": "stdout",
     "output_type": "stream",
     "text": [
      "Train on 54268 samples\n",
      "Epoch 1/5\n",
      "54268/54268 [==============================] - 280s 5ms/sample - loss: 0.3198 - accuracy: 1.8427e-05\n",
      "Epoch 2/5\n",
      "54268/54268 [==============================] - 273s 5ms/sample - loss: 0.3198 - accuracy: 1.8427e-05\n",
      "Epoch 3/5\n",
      "54268/54268 [==============================] - 279s 5ms/sample - loss: 0.3198 - accuracy: 1.8427e-05\n",
      "Epoch 4/5\n",
      "54268/54268 [==============================] - 267s 5ms/sample - loss: 0.3198 - accuracy: 1.8427e-05\n",
      "Epoch 5/5\n",
      "54268/54268 [==============================] - 256s 5ms/sample - loss: 0.3198 - accuracy: 1.8427e-05\n"
     ]
    },
    {
     "data": {
      "text/plain": [
       "<tensorflow.python.keras.callbacks.History at 0x26582fbff28>"
      ]
     },
     "execution_count": 20,
     "metadata": {},
     "output_type": "execute_result"
    }
   ],
   "source": [
    "model.fit(X_train, Y_train, batch_size=200, epochs=5)"
   ]
  },
  {
   "cell_type": "code",
   "execution_count": 21,
   "metadata": {},
   "outputs": [
    {
     "name": "stdout",
     "output_type": "stream",
     "text": [
      "Train on 54268 samples\n",
      "Epoch 1/10\n",
      "54268/54268 [==============================] - 267s 5ms/sample - loss: 0.3198 - accuracy: 1.8427e-05\n",
      "Epoch 2/10\n",
      "54268/54268 [==============================] - 261s 5ms/sample - loss: 0.3198 - accuracy: 1.8427e-05\n",
      "Epoch 3/10\n",
      "54268/54268 [==============================] - 283s 5ms/sample - loss: 0.3198 - accuracy: 1.8427e-05\n",
      "Epoch 4/10\n",
      "54268/54268 [==============================] - 295s 5ms/sample - loss: 0.3198 - accuracy: 1.8427e-05\n",
      "Epoch 5/10\n",
      "54268/54268 [==============================] - 266s 5ms/sample - loss: 0.3198 - accuracy: 1.8427e-05\n",
      "Epoch 6/10\n",
      "54268/54268 [==============================] - 273s 5ms/sample - loss: 0.3198 - accuracy: 1.8427e-05\n",
      "Epoch 7/10\n",
      "54268/54268 [==============================] - 284s 5ms/sample - loss: 0.3198 - accuracy: 1.8427e-05\n",
      "Epoch 8/10\n",
      "54268/54268 [==============================] - 301s 6ms/sample - loss: 0.3198 - accuracy: 1.8427e-05\n",
      "Epoch 9/10\n",
      "54268/54268 [==============================] - 280s 5ms/sample - loss: 0.3198 - accuracy: 1.8427e-05\n",
      "Epoch 10/10\n",
      "54268/54268 [==============================] - 268s 5ms/sample - loss: 0.3198 - accuracy: 1.8427e-05\n"
     ]
    },
    {
     "data": {
      "text/plain": [
       "<tensorflow.python.keras.callbacks.History at 0x26582fc6860>"
      ]
     },
     "execution_count": 21,
     "metadata": {},
     "output_type": "execute_result"
    }
   ],
   "source": [
    "model.fit(X_train, Y_train, batch_size=200, epochs=10)"
   ]
  },
  {
   "cell_type": "code",
   "execution_count": 22,
   "metadata": {},
   "outputs": [
    {
     "name": "stdout",
     "output_type": "stream",
     "text": [
      "Train on 54268 samples\n",
      "Epoch 1/10\n",
      "54268/54268 [==============================] - 240s 4ms/sample - loss: 0.3198 - accuracy: 1.8427e-05\n",
      "Epoch 2/10\n",
      "54268/54268 [==============================] - 232s 4ms/sample - loss: 0.3198 - accuracy: 1.8427e-05\n",
      "Epoch 3/10\n",
      "54268/54268 [==============================] - 239s 4ms/sample - loss: 0.3198 - accuracy: 1.8427e-05\n",
      "Epoch 4/10\n",
      "54268/54268 [==============================] - 242s 4ms/sample - loss: 0.3198 - accuracy: 1.8427e-05\n",
      "Epoch 5/10\n",
      "54268/54268 [==============================] - 239s 4ms/sample - loss: 0.3198 - accuracy: 1.8427e-05\n",
      "Epoch 6/10\n",
      "54268/54268 [==============================] - 240s 4ms/sample - loss: 0.3198 - accuracy: 1.8427e-05\n",
      "Epoch 7/10\n",
      "54268/54268 [==============================] - 227s 4ms/sample - loss: 0.3198 - accuracy: 1.8427e-05\n",
      "Epoch 8/10\n",
      "54268/54268 [==============================] - 235s 4ms/sample - loss: 0.3198 - accuracy: 1.8427e-05\n",
      "Epoch 9/10\n",
      "54268/54268 [==============================] - 238s 4ms/sample - loss: 0.3198 - accuracy: 1.8427e-05\n",
      "Epoch 10/10\n",
      "54268/54268 [==============================] - 243s 4ms/sample - loss: 0.3198 - accuracy: 1.8427e-05\n"
     ]
    },
    {
     "data": {
      "text/plain": [
       "<tensorflow.python.keras.callbacks.History at 0x26582fb83c8>"
      ]
     },
     "execution_count": 22,
     "metadata": {},
     "output_type": "execute_result"
    }
   ],
   "source": [
    "model.fit(X_train, Y_train, batch_size=100, epochs=10)"
   ]
  },
  {
   "cell_type": "code",
   "execution_count": 23,
   "metadata": {},
   "outputs": [
    {
     "name": "stdout",
     "output_type": "stream",
     "text": [
      "23258/23258 [==============================] - 59s 3ms/sample - loss: 0.3200 - accuracy: 0.0000e+00\n"
     ]
    },
    {
     "data": {
      "text/plain": [
       "[0.31995664675726365, 0.0]"
      ]
     },
     "execution_count": 23,
     "metadata": {},
     "output_type": "execute_result"
    }
   ],
   "source": [
    "model.evaluate(X_test, Y_test)"
   ]
  },
  {
   "cell_type": "code",
   "execution_count": 82,
   "metadata": {},
   "outputs": [
    {
     "name": "stdout",
     "output_type": "stream",
     "text": [
      "INFO:tensorflow:Assets written to: /Users/math/Desktop/TCN_foreign_invetsment-master/assets\n"
     ]
    }
   ],
   "source": [
    "model.save(\"/Users/math/Desktop/TCN_foreign_invetsment-master\")"
   ]
  },
  {
   "cell_type": "code",
   "execution_count": 26,
   "metadata": {},
   "outputs": [
    {
     "data": {
      "text/plain": [
       "array([[1.],\n",
       "       [1.],\n",
       "       [1.],\n",
       "       ...,\n",
       "       [1.],\n",
       "       [1.],\n",
       "       [1.]], dtype=float32)"
      ]
     },
     "execution_count": 26,
     "metadata": {},
     "output_type": "execute_result"
    }
   ],
   "source": [
    "model.predict(X_test)"
   ]
  },
  {
   "cell_type": "code",
   "execution_count": null,
   "metadata": {},
   "outputs": [],
   "source": []
  }
 ],
 "metadata": {
  "kernelspec": {
   "display_name": "Python 3",
   "language": "python",
   "name": "python3"
  },
  "language_info": {
   "codemirror_mode": {
    "name": "ipython",
    "version": 3
   },
   "file_extension": ".py",
   "mimetype": "text/x-python",
   "name": "python",
   "nbconvert_exporter": "python",
   "pygments_lexer": "ipython3",
   "version": "3.6.5"
  }
 },
 "nbformat": 4,
 "nbformat_minor": 4
}
